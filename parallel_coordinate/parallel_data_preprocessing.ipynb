{
 "cells": [
  {
   "cell_type": "code",
   "execution_count": 1,
   "id": "d4076938",
   "metadata": {},
   "outputs": [],
   "source": [
    "import pandas as pd\n",
    "import matplotlib.pyplot as plt\n",
    "import numpy as np"
   ]
  },
  {
   "cell_type": "code",
   "execution_count": 2,
   "id": "0b9c83ca",
   "metadata": {},
   "outputs": [
    {
     "data": {
      "text/plain": "                 id   following_n    commit_n  public_repos  public_gists\ncount  3.390000e+02    339.000000  339.000000    339.000000    339.000000\nmean   5.897615e+06    211.592920  435.392330     38.076696     10.879056\nstd    5.140349e+06   2631.137856  233.019521     48.356786     30.323309\nmin    1.180000e+02      0.000000  103.000000      0.000000      0.000000\n25%    1.005478e+06      1.000000  229.000000     14.000000      0.000000\n50%    5.633006e+06      7.000000  412.000000     25.000000      1.000000\n75%    1.006808e+07     36.000000  613.000000     45.000000      7.000000\nmax    2.533413e+07  48239.000000  899.000000    426.000000    236.000000",
      "text/html": "<div>\n<style scoped>\n    .dataframe tbody tr th:only-of-type {\n        vertical-align: middle;\n    }\n\n    .dataframe tbody tr th {\n        vertical-align: top;\n    }\n\n    .dataframe thead th {\n        text-align: right;\n    }\n</style>\n<table border=\"1\" class=\"dataframe\">\n  <thead>\n    <tr style=\"text-align: right;\">\n      <th></th>\n      <th>id</th>\n      <th>following_n</th>\n      <th>commit_n</th>\n      <th>public_repos</th>\n      <th>public_gists</th>\n    </tr>\n  </thead>\n  <tbody>\n    <tr>\n      <th>count</th>\n      <td>3.390000e+02</td>\n      <td>339.000000</td>\n      <td>339.000000</td>\n      <td>339.000000</td>\n      <td>339.000000</td>\n    </tr>\n    <tr>\n      <th>mean</th>\n      <td>5.897615e+06</td>\n      <td>211.592920</td>\n      <td>435.392330</td>\n      <td>38.076696</td>\n      <td>10.879056</td>\n    </tr>\n    <tr>\n      <th>std</th>\n      <td>5.140349e+06</td>\n      <td>2631.137856</td>\n      <td>233.019521</td>\n      <td>48.356786</td>\n      <td>30.323309</td>\n    </tr>\n    <tr>\n      <th>min</th>\n      <td>1.180000e+02</td>\n      <td>0.000000</td>\n      <td>103.000000</td>\n      <td>0.000000</td>\n      <td>0.000000</td>\n    </tr>\n    <tr>\n      <th>25%</th>\n      <td>1.005478e+06</td>\n      <td>1.000000</td>\n      <td>229.000000</td>\n      <td>14.000000</td>\n      <td>0.000000</td>\n    </tr>\n    <tr>\n      <th>50%</th>\n      <td>5.633006e+06</td>\n      <td>7.000000</td>\n      <td>412.000000</td>\n      <td>25.000000</td>\n      <td>1.000000</td>\n    </tr>\n    <tr>\n      <th>75%</th>\n      <td>1.006808e+07</td>\n      <td>36.000000</td>\n      <td>613.000000</td>\n      <td>45.000000</td>\n      <td>7.000000</td>\n    </tr>\n    <tr>\n      <th>max</th>\n      <td>2.533413e+07</td>\n      <td>48239.000000</td>\n      <td>899.000000</td>\n      <td>426.000000</td>\n      <td>236.000000</td>\n    </tr>\n  </tbody>\n</table>\n</div>"
     },
     "execution_count": 2,
     "metadata": {},
     "output_type": "execute_result"
    }
   ],
   "source": [
    "df = pd.read_csv('cleaned.csv')\n",
    "df1 = df.drop(['following_list', 'followed_list', 'locations', 'type_list', 'Unnamed: 0', 'followed_n'], axis=1)\n",
    "df1.describe()"
   ]
  },
  {
   "cell_type": "code",
   "execution_count": 3,
   "id": "0a5c5f3b",
   "metadata": {},
   "outputs": [
    {
     "data": {
      "text/plain": "[<matplotlib.lines.Line2D at 0x1aee0118310>]"
     },
     "execution_count": 3,
     "metadata": {},
     "output_type": "execute_result"
    },
    {
     "data": {
      "text/plain": "<Figure size 432x288 with 1 Axes>",
      "image/png": "[encoded data removed]"
     },
     "metadata": {
      "needs_background": "light"
     },
     "output_type": "display_data"
    }
   ],
   "source": [
    "x = np.arange(339)\n",
    "y = df['followed_n']\n",
    "plt.plot(x, y)"
   ]
  },
  {
   "cell_type": "code",
   "execution_count": 4,
   "id": "c53b88c9",
   "metadata": {},
   "outputs": [],
   "source": [
    "df1['follower_range'] = 0"
   ]
  },
  {
   "cell_type": "code",
   "execution_count": 5,
   "id": "f3402eb9",
   "metadata": {},
   "outputs": [
    {
     "name": "stderr",
     "output_type": "stream",
     "text": [
      "D:\\Anaconda3\\lib\\site-packages\\pandas\\core\\indexing.py:1637: SettingWithCopyWarning: \n",
      "A value is trying to be set on a copy of a slice from a DataFrame\n",
      "\n",
      "See the caveats in the documentation: https://pandas.pydata.org/pandas-docs/stable/user_guide/indexing.html#returning-a-view-versus-a-copy\n",
      "  self._setitem_single_block(indexer, value, name)\n"
     ]
    }
   ],
   "source": [
    "for i in range(100):\n",
    "    df1['follower_range'].iloc[i] = 'followers0-100'\n",
    "for i in range(100, 200):\n",
    "    df1['follower_range'].iloc[i] = 'followers100-500'\n",
    "for i in range(200, 300):\n",
    "    df1['follower_range'].iloc[i] = 'followers500-1000'\n",
    "for i in range(300, 327):\n",
    "    df1['follower_range'].iloc[i] = 'followers1000-2000'\n",
    "for i in range(327, 339):\n",
    "    df1['follower_range'].iloc[i] = 'followers2000'"
   ]
  },
  {
   "cell_type": "code",
   "execution_count": 6,
   "id": "f1e90ea8",
   "metadata": {
    "scrolled": true
   },
   "outputs": [
    {
     "data": {
      "text/plain": "           id  following_n  commit_n  \\\n0    10074798            9       181   \n1    10067971            1       286   \n2    10040154            0       548   \n3    10047005            6       107   \n4    10017162            0       371   \n..        ...          ...       ...   \n333   3346272           15       283   \n334    368462          217       414   \n335   3734415            0       441   \n336   3939305           50       353   \n338   5139030            0       716   \n\n                                                   bio  public_repos  \\\n0                                                  NaN            11   \n1                                                  NaN            24   \n2    Frontend developer: Javascript, React, DraftJS...            49   \n3                                                  NaN            41   \n4                  \"If the apocalypse comes, beep me.\"            41   \n..                                                 ...           ...   \n333                                                NaN            25   \n334                                          @W3cplus             45   \n335  The quieter you become, the more you are able ...            12   \n336                    welcome to http://litesuits.com            95   \n338  Bots, AI, advanced web frameworks, ohlc applic...            36   \n\n     public_gists  follower_range  \n0               0  followers0-100  \n1               0  followers0-100  \n2               2  followers0-100  \n3               0  followers0-100  \n4               1  followers0-100  \n..            ...             ...  \n333             0   followers2000  \n334           124   followers2000  \n335             0   followers2000  \n336             0   followers2000  \n338             5   followers2000  \n\n[338 rows x 7 columns]",
      "text/html": "<div>\n<style scoped>\n    .dataframe tbody tr th:only-of-type {\n        vertical-align: middle;\n    }\n\n    .dataframe tbody tr th {\n        vertical-align: top;\n    }\n\n    .dataframe thead th {\n        text-align: right;\n    }\n</style>\n<table border=\"1\" class=\"dataframe\">\n  <thead>\n    <tr style=\"text-align: right;\">\n      <th></th>\n      <th>id</th>\n      <th>following_n</th>\n      <th>commit_n</th>\n      <th>bio</th>\n      <th>public_repos</th>\n      <th>public_gists</th>\n      <th>follower_range</th>\n    </tr>\n  </thead>\n  <tbody>\n    <tr>\n      <th>0</th>\n      <td>10074798</td>\n      <td>9</td>\n      <td>181</td>\n      <td>NaN</td>\n      <td>11</td>\n      <td>0</td>\n      <td>followers0-100</td>\n    </tr>\n    <tr>\n      <th>1</th>\n      <td>10067971</td>\n      <td>1</td>\n      <td>286</td>\n      <td>NaN</td>\n      <td>24</td>\n      <td>0</td>\n      <td>followers0-100</td>\n    </tr>\n    <tr>\n      <th>2</th>\n      <td>10040154</td>\n      <td>0</td>\n      <td>548</td>\n      <td>Frontend developer: Javascript, React, DraftJS...</td>\n      <td>49</td>\n      <td>2</td>\n      <td>followers0-100</td>\n    </tr>\n    <tr>\n      <th>3</th>\n      <td>10047005</td>\n      <td>6</td>\n      <td>107</td>\n      <td>NaN</td>\n      <td>41</td>\n      <td>0</td>\n      <td>followers0-100</td>\n    </tr>\n    <tr>\n      <th>4</th>\n      <td>10017162</td>\n      <td>0</td>\n      <td>371</td>\n      <td>\"If the apocalypse comes, beep me.\"</td>\n      <td>41</td>\n      <td>1</td>\n      <td>followers0-100</td>\n    </tr>\n    <tr>\n      <th>...</th>\n      <td>...</td>\n      <td>...</td>\n      <td>...</td>\n      <td>...</td>\n      <td>...</td>\n      <td>...</td>\n      <td>...</td>\n    </tr>\n    <tr>\n      <th>333</th>\n      <td>3346272</td>\n      <td>15</td>\n      <td>283</td>\n      <td>NaN</td>\n      <td>25</td>\n      <td>0</td>\n      <td>followers2000</td>\n    </tr>\n    <tr>\n      <th>334</th>\n      <td>368462</td>\n      <td>217</td>\n      <td>414</td>\n      <td>@W3cplus</td>\n      <td>45</td>\n      <td>124</td>\n      <td>followers2000</td>\n    </tr>\n    <tr>\n      <th>335</th>\n      <td>3734415</td>\n      <td>0</td>\n      <td>441</td>\n      <td>The quieter you become, the more you are able ...</td>\n      <td>12</td>\n      <td>0</td>\n      <td>followers2000</td>\n    </tr>\n    <tr>\n      <th>336</th>\n      <td>3939305</td>\n      <td>50</td>\n      <td>353</td>\n      <td>welcome to http://litesuits.com</td>\n      <td>95</td>\n      <td>0</td>\n      <td>followers2000</td>\n    </tr>\n    <tr>\n      <th>338</th>\n      <td>5139030</td>\n      <td>0</td>\n      <td>716</td>\n      <td>Bots, AI, advanced web frameworks, ohlc applic...</td>\n      <td>36</td>\n      <td>5</td>\n      <td>followers2000</td>\n    </tr>\n  </tbody>\n</table>\n<p>338 rows × 7 columns</p>\n</div>"
     },
     "execution_count": 6,
     "metadata": {},
     "output_type": "execute_result"
    }
   ],
   "source": [
    "df1 = df1.drop(index=337)\n",
    "df1"
   ]
  },
  {
   "cell_type": "code",
   "execution_count": 7,
   "id": "0241e976",
   "metadata": {},
   "outputs": [],
   "source": [
    "#df1.to_csv('wordcloud_data.csv')"
   ]
  },
  {
   "cell_type": "code",
   "execution_count": 10,
   "id": "3e63a0ea",
   "metadata": {},
   "outputs": [],
   "source": [
    "df1.to_csv('parallel_data.csv', index=False)"
   ]
  },
  {
   "cell_type": "code",
   "execution_count": 9,
   "id": "6d1e7d95",
   "metadata": {},
   "outputs": [
    {
     "data": {
      "text/plain": "id                False\nfollowing_n       False\ncommit_n          False\nbio                True\npublic_repos      False\npublic_gists      False\nfollower_range    False\ndtype: bool"
     },
     "execution_count": 9,
     "metadata": {},
     "output_type": "execute_result"
    }
   ],
   "source": [
    "df1.isna().any()"
   ]
  },
  {
   "cell_type": "code",
   "execution_count": 13,
   "id": "17272a4c",
   "metadata": {},
   "outputs": [],
   "source": [
    "# add mean to data\n",
    "\n",
    "mean_df = df1.groupby('follower_range').mean().drop(['id'], axis=1)\n",
    "mean_df.to_csv('means.csv')"
   ]
  },
  {
   "cell_type": "code",
   "execution_count": null,
   "outputs": [],
   "source": [],
   "metadata": {
    "collapsed": false,
    "pycharm": {
     "name": "#%%\n"
    }
   }
  }
 ],
 "metadata": {
  "kernelspec": {
   "name": "pycharm-59ab14dd",
   "language": "python",
   "display_name": "PyCharm (stats403)"
  },
  "language_info": {
   "codemirror_mode": {
    "name": "ipython",
    "version": 3
   },
   "file_extension": ".py",
   "mimetype": "text/x-python",
   "name": "python",
   "nbconvert_exporter": "python",
   "pygments_lexer": "ipython3",
   "version": "3.8.8"
  }
 },
 "nbformat": 4,
 "nbformat_minor": 5
}