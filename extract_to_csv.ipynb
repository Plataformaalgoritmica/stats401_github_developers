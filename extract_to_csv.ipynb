{
 "cells": [
  {
   "cell_type": "code",
   "execution_count": 6,
   "metadata": {},
   "outputs": [],
   "source": [
    "import json\n",
    "import os\n",
    "\n",
    "all_ids = json.load(open('all_ids.json', encoding='utf-8'))\n",
    "\n",
    "files = []\n",
    "for dev_id in all_ids:\n",
    "    file_path = os.path.join('cleaned', f'{dev_id}.json')\n",
    "    files.append(file_path)"
   ]
  },
  {
   "cell_type": "code",
   "execution_count": 7,
   "metadata": {},
   "outputs": [],
   "source": [
    "people = []\n",
    "following_n = []\n",
    "followed_n = []\n",
    "following_list = []\n",
    "followed_list = []\n",
    "commit_n = []\n",
    "locations = []\n",
    "type_list = []\n",
    "bio_list = []\n",
    "public_repos = []\n",
    "public_gists = []\n",
    "\n",
    "for file in files:\n",
    "    data = json.load(open(file, encoding='utf-8'))\n",
    "\n",
    "    people.append(data['id'])\n",
    "    following_n.append(data['following'])\n",
    "    followed_n.append(data['followers'])\n",
    "    following_list.append(data['following_list'])\n",
    "    followed_list.append(data['follower_list'])\n",
    "    commit_n.append(data['commits'])\n",
    "    locations.append(data['location'])\n",
    "    type_list.append(data['type'])\n",
    "    bio_list.append(data['bio'])\n",
    "    public_repos.append(data['public_repos'])\n",
    "    public_gists.append(data['public_gists'])"
   ]
  },
  {
   "cell_type": "code",
   "execution_count": 8,
   "metadata": {},
   "outputs": [],
   "source": [
    "import pandas as pd\n",
    "\n",
    "df = pd.DataFrame(\n",
    "    {\n",
    "        'id': people, 'following_n': following_n, 'followed_n': followed_n,\n",
    "        'following_list': following_list, 'followed_list': followed_list,\n",
    "        'commit_n': commit_n, 'locations': locations, 'type_list': type_list,\n",
    "        'bio': bio_list, 'public_repos': public_repos, 'public_gists': public_gists,\n",
    "    }\n",
    ")"
   ]
  },
  {
   "cell_type": "code",
   "execution_count": 9,
   "metadata": {},
   "outputs": [
    {
     "data": {
      "text/plain": "           id  following_n  followed_n  \\\n0    10074798            9           1   \n1    10067971            1           5   \n2    10040154            0          11   \n3    10047005            6           2   \n4    10017162            0           2   \n..        ...          ...         ...   \n334    368462          217        2163   \n335   3734415            0        2917   \n336   3939305           50        2643   \n337   4107768        48239        2383   \n338   5139030            0        3154   \n\n                                        following_list  \\\n0    [54999, 232176, 383944, 386387, 560676, 182692...   \n1                                           [11744354]   \n2                                                   []   \n3    [135605, 1390196, 3666378, 5382443, 8781649, 1...   \n4                                                   []   \n..                                                 ...   \n334  [1839, 4609, 11602, 13041, 19343, 27381, 39191...   \n335                                                 []   \n336  [658, 72891, 97227, 153183, 227486, 276834, 29...   \n337  [4, 26, 85, 107, 133, 155, 185, 198, 230, 232,...   \n338                                                 []   \n\n                                         followed_list  commit_n  \\\n0                                            [1143141]       181   \n1    [11744354, 4060812, 12416920, 15170421, 10870130]       286   \n2    [2005841, 5494638, 28793381, 31626996, 2604504...       548   \n3                                 [12231461, 19707142]       107   \n4                                  [3949262, 23435604]       371   \n..                                                 ...       ...   \n334  [628155, 641753, 800043, 1284069, 1734523, 238...       414   \n335  [2018010, 567154, 4919118, 1475895, 2832848, 7...       441   \n336  [2789188, 902453, 6170899, 1639690, 1106594, 3...       353   \n337  [3604053, 5131269, 4902369, 5088423, 6867996, ...       153   \n338  [1816153, 5005600, 4653478, 3815645, 5832184, ...       716   \n\n                            locations type_list  \\\n0                           Trondheim      User   \n1                              Serbia      User   \n2                                None      User   \n3                            Việt Nam      User   \n4                                None      User   \n..                                ...       ...   \n334                             China      User   \n335                           chengdu      User   \n336                            中国浙江杭州      User   \n337  Póvoa de Varzim, Porto, Portugal      User   \n338                            Mumbai      User   \n\n                                                   bio  public_repos  \\\n0                                                 None            11   \n1                                                 None            24   \n2    Frontend developer: Javascript, React, DraftJS...            49   \n3                                                 None            41   \n4                  \"If the apocalypse comes, beep me.\"            41   \n..                                                 ...           ...   \n334                                          @W3cplus             45   \n335  The quieter you become, the more you are able ...            12   \n336                    welcome to http://litesuits.com            95   \n337                                               None            46   \n338  Bots, AI, advanced web frameworks, ohlc applic...            36   \n\n     public_gists  \n0               0  \n1               0  \n2               2  \n3               0  \n4               1  \n..            ...  \n334           124  \n335             0  \n336             0  \n337             0  \n338             5  \n\n[339 rows x 11 columns]",
      "text/html": "<div>\n<style scoped>\n    .dataframe tbody tr th:only-of-type {\n        vertical-align: middle;\n    }\n\n    .dataframe tbody tr th {\n        vertical-align: top;\n    }\n\n    .dataframe thead th {\n        text-align: right;\n    }\n</style>\n<table border=\"1\" class=\"dataframe\">\n  <thead>\n    <tr style=\"text-align: right;\">\n      <th></th>\n      <th>id</th>\n      <th>following_n</th>\n      <th>followed_n</th>\n      <th>following_list</th>\n      <th>followed_list</th>\n      <th>commit_n</th>\n      <th>locations</th>\n      <th>type_list</th>\n      <th>bio</th>\n      <th>public_repos</th>\n      <th>public_gists</th>\n    </tr>\n  </thead>\n  <tbody>\n    <tr>\n      <th>0</th>\n      <td>10074798</td>\n      <td>9</td>\n      <td>1</td>\n      <td>[54999, 232176, 383944, 386387, 560676, 182692...</td>\n      <td>[1143141]</td>\n      <td>181</td>\n      <td>Trondheim</td>\n      <td>User</td>\n      <td>None</td>\n      <td>11</td>\n      <td>0</td>\n    </tr>\n    <tr>\n      <th>1</th>\n      <td>10067971</td>\n      <td>1</td>\n      <td>5</td>\n      <td>[11744354]</td>\n      <td>[11744354, 4060812, 12416920, 15170421, 10870130]</td>\n      <td>286</td>\n      <td>Serbia</td>\n      <td>User</td>\n      <td>None</td>\n      <td>24</td>\n      <td>0</td>\n    </tr>\n    <tr>\n      <th>2</th>\n      <td>10040154</td>\n      <td>0</td>\n      <td>11</td>\n      <td>[]</td>\n      <td>[2005841, 5494638, 28793381, 31626996, 2604504...</td>\n      <td>548</td>\n      <td>None</td>\n      <td>User</td>\n      <td>Frontend developer: Javascript, React, DraftJS...</td>\n      <td>49</td>\n      <td>2</td>\n    </tr>\n    <tr>\n      <th>3</th>\n      <td>10047005</td>\n      <td>6</td>\n      <td>2</td>\n      <td>[135605, 1390196, 3666378, 5382443, 8781649, 1...</td>\n      <td>[12231461, 19707142]</td>\n      <td>107</td>\n      <td>Việt Nam</td>\n      <td>User</td>\n      <td>None</td>\n      <td>41</td>\n      <td>0</td>\n    </tr>\n    <tr>\n      <th>4</th>\n      <td>10017162</td>\n      <td>0</td>\n      <td>2</td>\n      <td>[]</td>\n      <td>[3949262, 23435604]</td>\n      <td>371</td>\n      <td>None</td>\n      <td>User</td>\n      <td>\"If the apocalypse comes, beep me.\"</td>\n      <td>41</td>\n      <td>1</td>\n    </tr>\n    <tr>\n      <th>...</th>\n      <td>...</td>\n      <td>...</td>\n      <td>...</td>\n      <td>...</td>\n      <td>...</td>\n      <td>...</td>\n      <td>...</td>\n      <td>...</td>\n      <td>...</td>\n      <td>...</td>\n      <td>...</td>\n    </tr>\n    <tr>\n      <th>334</th>\n      <td>368462</td>\n      <td>217</td>\n      <td>2163</td>\n      <td>[1839, 4609, 11602, 13041, 19343, 27381, 39191...</td>\n      <td>[628155, 641753, 800043, 1284069, 1734523, 238...</td>\n      <td>414</td>\n      <td>China</td>\n      <td>User</td>\n      <td>@W3cplus</td>\n      <td>45</td>\n      <td>124</td>\n    </tr>\n    <tr>\n      <th>335</th>\n      <td>3734415</td>\n      <td>0</td>\n      <td>2917</td>\n      <td>[]</td>\n      <td>[2018010, 567154, 4919118, 1475895, 2832848, 7...</td>\n      <td>441</td>\n      <td>chengdu</td>\n      <td>User</td>\n      <td>The quieter you become, the more you are able ...</td>\n      <td>12</td>\n      <td>0</td>\n    </tr>\n    <tr>\n      <th>336</th>\n      <td>3939305</td>\n      <td>50</td>\n      <td>2643</td>\n      <td>[658, 72891, 97227, 153183, 227486, 276834, 29...</td>\n      <td>[2789188, 902453, 6170899, 1639690, 1106594, 3...</td>\n      <td>353</td>\n      <td>中国浙江杭州</td>\n      <td>User</td>\n      <td>welcome to http://litesuits.com</td>\n      <td>95</td>\n      <td>0</td>\n    </tr>\n    <tr>\n      <th>337</th>\n      <td>4107768</td>\n      <td>48239</td>\n      <td>2383</td>\n      <td>[4, 26, 85, 107, 133, 155, 185, 198, 230, 232,...</td>\n      <td>[3604053, 5131269, 4902369, 5088423, 6867996, ...</td>\n      <td>153</td>\n      <td>Póvoa de Varzim, Porto, Portugal</td>\n      <td>User</td>\n      <td>None</td>\n      <td>46</td>\n      <td>0</td>\n    </tr>\n    <tr>\n      <th>338</th>\n      <td>5139030</td>\n      <td>0</td>\n      <td>3154</td>\n      <td>[]</td>\n      <td>[1816153, 5005600, 4653478, 3815645, 5832184, ...</td>\n      <td>716</td>\n      <td>Mumbai</td>\n      <td>User</td>\n      <td>Bots, AI, advanced web frameworks, ohlc applic...</td>\n      <td>36</td>\n      <td>5</td>\n    </tr>\n  </tbody>\n</table>\n<p>339 rows × 11 columns</p>\n</div>"
     },
     "execution_count": 9,
     "metadata": {},
     "output_type": "execute_result"
    }
   ],
   "source": [
    "df"
   ]
  },
  {
   "cell_type": "code",
   "execution_count": 10,
   "metadata": {},
   "outputs": [],
   "source": [
    "df.to_csv('cleaned.csv')"
   ]
  },
  {
   "cell_type": "code",
   "execution_count": null,
   "outputs": [],
   "source": [],
   "metadata": {
    "collapsed": false,
    "pycharm": {
     "name": "#%%\n"
    }
   }
  }
 ],
 "metadata": {
  "kernelspec": {
   "display_name": "Python 3",
   "language": "python",
   "name": "python3"
  },
  "language_info": {
   "codemirror_mode": {
    "name": "ipython",
    "version": 3
   },
   "file_extension": ".py",
   "mimetype": "text/x-python",
   "name": "python",
   "nbconvert_exporter": "python",
   "pygments_lexer": "ipython3",
   "version": "3.7.6"
  }
 },
 "nbformat": 4,
 "nbformat_minor": 4
}