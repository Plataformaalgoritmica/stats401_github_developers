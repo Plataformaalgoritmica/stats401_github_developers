{
 "cells": [
  {
   "cell_type": "code",
   "execution_count": 4,
   "metadata": {},
   "outputs": [],
   "source": [
    "import json\n",
    "import os\n",
    "\n",
    "all_ids = json.load(open('all_ids.json', encoding='utf-8'))\n",
    "\n",
    "files = []\n",
    "for dev_id in all_ids:\n",
    "    file_path = os.path.join('cleaned', f'{dev_id}.json')\n",
    "    files.append(file_path)"
   ]
  },
  {
   "cell_type": "code",
   "execution_count": 5,
   "metadata": {},
   "outputs": [],
   "source": [
    "people = []\n",
    "following_n = []\n",
    "followed_n = []\n",
    "following_list = []\n",
    "followed_list = []\n",
    "commit_n = []\n",
    "locations = []\n",
    "type_list = []\n",
    "bio_list = []"
   ]
  },
  {
   "cell_type": "code",
   "execution_count": 6,
   "metadata": {},
   "outputs": [],
   "source": [
    "for file in files:\n",
    "    data = json.load(open(file, encoding='utf-8'))\n",
    "    personid = data['id']\n",
    "    following = data['following_list']\n",
    "    followed = data['follower_list']\n",
    "    following_num = data['following']\n",
    "    followed_num = data['followers']\n",
    "    commits = data['commits']\n",
    "    location = data['location']\n",
    "    type1 = data['type']\n",
    "    bio = data['bio']\n",
    "\n",
    "    people.append(personid)\n",
    "    following_n.append(following_num)\n",
    "    followed_n.append(followed_num)\n",
    "    following_list.append(following)\n",
    "    followed_list.append(followed)\n",
    "    commit_n.append(commits)\n",
    "    locations.append(location)\n",
    "    type_list.append(type1)\n",
    "    bio_list.append(bio)"
   ]
  },
  {
   "cell_type": "code",
   "execution_count": 7,
   "metadata": {},
   "outputs": [],
   "source": [
    "import pandas as pd\n",
    "\n",
    "df = pd.DataFrame(\n",
    "    {\n",
    "        'id': people, 'following_n': following_n, 'followed_n': followed_n,\n",
    "        'following_list': following_list, 'followed_list': followed_list, 'commit_n': commit_n,\n",
    "        'locations': locations, 'type_list': type_list, 'bio': bio_list\n",
    "    }\n",
    ")"
   ]
  },
  {
   "cell_type": "code",
   "execution_count": 8,
   "metadata": {},
   "outputs": [
    {
     "data": {
      "text/plain": "             id  following_n  followed_n  \\\n0      10000206           24          10   \n1      10000354            7          10   \n2      10040154            0          11   \n3      10030028          271          42   \n4       1000912            5          10   \n...         ...          ...         ...   \n10143    143293            2          30   \n10144  14366621           16          11   \n10145  14336677          102          26   \n10146  14329563           40          16   \n10147  14366908            5          13   \n\n                                          following_list  \\\n0      [383, 20041, 54385, 66577, 140370, 150330, 231...   \n1      [11392560, 11411618, 11424393, 11440475, 11611...   \n2                                                     []   \n3      [1, 2, 80, 420, 499, 579, 1615, 1900, 2289, 33...   \n4           [118883, 245857, 1282248, 6938481, 15487798]   \n...                                                  ...   \n10143                                      [8629, 29193]   \n10144  [79668, 5726761, 7810310, 11418381, 11713912, ...   \n10145  [118965, 134491, 161680, 241138, 403133, 47231...   \n10146  [29565, 241138, 250365, 629706, 669967, 120589...   \n10147          [80, 914122, 8204778, 14958319, 16972095]   \n\n                                           followed_list  commit_n  \\\n0      [3604053, 10801765, 26204642, 4216141, 6508763...       207   \n1      [11392560, 13049237, 11424393, 11411618, 11440...       375   \n2      [2005841, 5494638, 28793381, 31626996, 2604504...       548   \n3      [10179239, 10605, 6673982, 3082132, 3949262, 1...       382   \n4      [3963901, 107576, 285687, 1806175, 29447628, 1...       213   \n...                                                  ...       ...   \n10143  [6027, 16177, 45204, 139472, 145415, 211819, 3...       590   \n10144  [14621180, 13895503, 14574771, 11713912, 13812...       377   \n10145  [16752480, 7275224, 8606935, 16430688, 1582787...       254   \n10146  [10905557, 20728543, 7712937, 18255953, 198295...       897   \n10147  [10533596, 9921649, 8880923, 14958319, 8204778...       371   \n\n                locations type_list  \\\n0                  Turkey      User   \n1                 Ireland      User   \n2                    None      User   \n3          Ibadan,Nigeria      User   \n4                   Tokyo      User   \n...                   ...       ...   \n10143           Plano, TX      User   \n10144                None      User   \n10145           Princeton      User   \n10146  Seoul, South Korea      User   \n10147        Tokyo, Japan      User   \n\n                                                     bio  \n0                                                   None  \n1                                                   None  \n2      Frontend developer: Javascript, React, DraftJS...  \n3      Software developer. \\r\\nI :heart: JavaScript\\r...  \n4              Developing iOS apps since iPhone OS 2.2.   \n...                                                  ...  \n10143                                               None  \n10144                                               None  \n10145  Interest in Natural Language Processing, Deep ...  \n10146  Working on Audio Programming & Music Informati...  \n10147                                               None  \n\n[10148 rows x 9 columns]",
      "text/html": "<div>\n<style scoped>\n    .dataframe tbody tr th:only-of-type {\n        vertical-align: middle;\n    }\n\n    .dataframe tbody tr th {\n        vertical-align: top;\n    }\n\n    .dataframe thead th {\n        text-align: right;\n    }\n</style>\n<table border=\"1\" class=\"dataframe\">\n  <thead>\n    <tr style=\"text-align: right;\">\n      <th></th>\n      <th>id</th>\n      <th>following_n</th>\n      <th>followed_n</th>\n      <th>following_list</th>\n      <th>followed_list</th>\n      <th>commit_n</th>\n      <th>locations</th>\n      <th>type_list</th>\n      <th>bio</th>\n    </tr>\n  </thead>\n  <tbody>\n    <tr>\n      <th>0</th>\n      <td>10000206</td>\n      <td>24</td>\n      <td>10</td>\n      <td>[383, 20041, 54385, 66577, 140370, 150330, 231...</td>\n      <td>[3604053, 10801765, 26204642, 4216141, 6508763...</td>\n      <td>207</td>\n      <td>Turkey</td>\n      <td>User</td>\n      <td>None</td>\n    </tr>\n    <tr>\n      <th>1</th>\n      <td>10000354</td>\n      <td>7</td>\n      <td>10</td>\n      <td>[11392560, 11411618, 11424393, 11440475, 11611...</td>\n      <td>[11392560, 13049237, 11424393, 11411618, 11440...</td>\n      <td>375</td>\n      <td>Ireland</td>\n      <td>User</td>\n      <td>None</td>\n    </tr>\n    <tr>\n      <th>2</th>\n      <td>10040154</td>\n      <td>0</td>\n      <td>11</td>\n      <td>[]</td>\n      <td>[2005841, 5494638, 28793381, 31626996, 2604504...</td>\n      <td>548</td>\n      <td>None</td>\n      <td>User</td>\n      <td>Frontend developer: Javascript, React, DraftJS...</td>\n    </tr>\n    <tr>\n      <th>3</th>\n      <td>10030028</td>\n      <td>271</td>\n      <td>42</td>\n      <td>[1, 2, 80, 420, 499, 579, 1615, 1900, 2289, 33...</td>\n      <td>[10179239, 10605, 6673982, 3082132, 3949262, 1...</td>\n      <td>382</td>\n      <td>Ibadan,Nigeria</td>\n      <td>User</td>\n      <td>Software developer. \\r\\nI :heart: JavaScript\\r...</td>\n    </tr>\n    <tr>\n      <th>4</th>\n      <td>1000912</td>\n      <td>5</td>\n      <td>10</td>\n      <td>[118883, 245857, 1282248, 6938481, 15487798]</td>\n      <td>[3963901, 107576, 285687, 1806175, 29447628, 1...</td>\n      <td>213</td>\n      <td>Tokyo</td>\n      <td>User</td>\n      <td>Developing iOS apps since iPhone OS 2.2.</td>\n    </tr>\n    <tr>\n      <th>...</th>\n      <td>...</td>\n      <td>...</td>\n      <td>...</td>\n      <td>...</td>\n      <td>...</td>\n      <td>...</td>\n      <td>...</td>\n      <td>...</td>\n      <td>...</td>\n    </tr>\n    <tr>\n      <th>10143</th>\n      <td>143293</td>\n      <td>2</td>\n      <td>30</td>\n      <td>[8629, 29193]</td>\n      <td>[6027, 16177, 45204, 139472, 145415, 211819, 3...</td>\n      <td>590</td>\n      <td>Plano, TX</td>\n      <td>User</td>\n      <td>None</td>\n    </tr>\n    <tr>\n      <th>10144</th>\n      <td>14366621</td>\n      <td>16</td>\n      <td>11</td>\n      <td>[79668, 5726761, 7810310, 11418381, 11713912, ...</td>\n      <td>[14621180, 13895503, 14574771, 11713912, 13812...</td>\n      <td>377</td>\n      <td>None</td>\n      <td>User</td>\n      <td>None</td>\n    </tr>\n    <tr>\n      <th>10145</th>\n      <td>14336677</td>\n      <td>102</td>\n      <td>26</td>\n      <td>[118965, 134491, 161680, 241138, 403133, 47231...</td>\n      <td>[16752480, 7275224, 8606935, 16430688, 1582787...</td>\n      <td>254</td>\n      <td>Princeton</td>\n      <td>User</td>\n      <td>Interest in Natural Language Processing, Deep ...</td>\n    </tr>\n    <tr>\n      <th>10146</th>\n      <td>14329563</td>\n      <td>40</td>\n      <td>16</td>\n      <td>[29565, 241138, 250365, 629706, 669967, 120589...</td>\n      <td>[10905557, 20728543, 7712937, 18255953, 198295...</td>\n      <td>897</td>\n      <td>Seoul, South Korea</td>\n      <td>User</td>\n      <td>Working on Audio Programming &amp; Music Informati...</td>\n    </tr>\n    <tr>\n      <th>10147</th>\n      <td>14366908</td>\n      <td>5</td>\n      <td>13</td>\n      <td>[80, 914122, 8204778, 14958319, 16972095]</td>\n      <td>[10533596, 9921649, 8880923, 14958319, 8204778...</td>\n      <td>371</td>\n      <td>Tokyo, Japan</td>\n      <td>User</td>\n      <td>None</td>\n    </tr>\n  </tbody>\n</table>\n<p>10148 rows × 9 columns</p>\n</div>"
     },
     "execution_count": 8,
     "metadata": {},
     "output_type": "execute_result"
    }
   ],
   "source": [
    "df"
   ]
  },
  {
   "cell_type": "code",
   "execution_count": 9,
   "metadata": {},
   "outputs": [],
   "source": [
    "df.to_csv('cleaned.csv')"
   ]
  },
  {
   "cell_type": "code",
   "execution_count": null,
   "outputs": [],
   "source": [],
   "metadata": {
    "collapsed": false,
    "pycharm": {
     "name": "#%%\n"
    }
   }
  }
 ],
 "metadata": {
  "kernelspec": {
   "display_name": "Python 3",
   "language": "python",
   "name": "python3"
  },
  "language_info": {
   "codemirror_mode": {
    "name": "ipython",
    "version": 3
   },
   "file_extension": ".py",
   "mimetype": "text/x-python",
   "name": "python",
   "nbconvert_exporter": "python",
   "pygments_lexer": "ipython3",
   "version": "3.7.6"
  }
 },
 "nbformat": 4,
 "nbformat_minor": 4
}